{
  "nbformat": 4,
  "nbformat_minor": 0,
  "metadata": {
    "colab": {
      "provenance": []
    },
    "kernelspec": {
      "name": "python3",
      "display_name": "Python 3"
    },
    "language_info": {
      "name": "python"
    }
  },
  "cells": [
    {
      "cell_type": "markdown",
      "source": [
        "THEORY QUESTIONS :-"
      ],
      "metadata": {
        "id": "i-L9dfwXNgeP"
      }
    },
    {
      "cell_type": "markdown",
      "source": [
        "1) What is the difference between interpreted and compiled languages?\n",
        "\n",
        "Difference between interpreted and compiled languages\n",
        "\n",
        "\n",
        "- Interpreted language: The source code is executed line-by-line by an interpreter at runtime. It does not require prior conversion to machine code. Examples: Python, JavaScript.\n",
        "Pros: Easier debugging, cross-platform compatibility.\n",
        "Cons: Slower execution because translation happens during runtime.\n",
        "\n",
        "- Compiled language: The source code is translated into machine code by a compiler before execution. The machine code is then executed directly by the CPU. Examples: C, C++.\n",
        "Pros: Faster execution, better optimization.\n",
        "Cons: Needs recompilation for changes and platform-specific binaries.\n",
        "\n"
      ],
      "metadata": {
        "id": "LzB2Abud3iXU"
      }
    },
    {
      "cell_type": "markdown",
      "source": [
        "2) What is exception handling in Python?\n",
        "- Exception handling in Python\n",
        "A way to handle runtime errors gracefully, preventing the program from crashing.\n",
        "Uses try (to test code), except (to handle errors), else (if no error), and finally (cleanup code).\n",
        "\n"
      ],
      "metadata": {
        "id": "qUNlI6Wm3J3Z"
      }
    },
    {
      "cell_type": "code",
      "source": [
        "#Example:\n",
        "\n",
        "try:\n",
        "    num = int(input(\"Enter number: \"))\n",
        "except ValueError:\n",
        "    print(\"Invalid input!\")\n"
      ],
      "metadata": {
        "id": "SVYY7KnW6PEX",
        "colab": {
          "base_uri": "https://localhost:8080/"
        },
        "outputId": "2035292e-8cc0-455f-ee0f-5541886916e8"
      },
      "execution_count": null,
      "outputs": [
        {
          "name": "stdout",
          "output_type": "stream",
          "text": [
            "Enter number: 99\n"
          ]
        }
      ]
    },
    {
      "cell_type": "code",
      "source": [
        "try:\n",
        "    num = int(input(\"Enter number: \"))\n",
        "except ValueError:\n",
        "    print(\"Invalid input!\")\n"
      ],
      "metadata": {
        "id": "g8eHhQC267gh",
        "colab": {
          "base_uri": "https://localhost:8080/"
        },
        "outputId": "5eee5a16-94dd-45b4-8cb4-58f58cf4bc93"
      },
      "execution_count": null,
      "outputs": [
        {
          "output_type": "stream",
          "name": "stdout",
          "text": [
            "Enter number: parantap\n",
            "Invalid input!\n"
          ]
        }
      ]
    },
    {
      "cell_type": "markdown",
      "source": [
        "3) What is the purpose of the finally block in exception handling?\n",
        "- Purpose of the finally block\n",
        "Code in finally always runs whether or not an exception occurs.\n",
        "Useful for resource cleanup (e.g., closing files, releasing locks).\n",
        "\n",
        "\n"
      ],
      "metadata": {
        "id": "N8gJlsn67JPF"
      }
    },
    {
      "cell_type": "code",
      "source": [
        "#Example:\n",
        "\n",
        "try:\n",
        "    f = open(\"/tmp/data.txt\", \"w\") # Open a file that exists or create one if it doesn't\n",
        "    f.write(\"This is some data.\\n\")\n",
        "finally:\n",
        "    if 'f' in locals() and not f.closed: # Check if 'f' is defined and not already closed\n",
        "        f.close()"
      ],
      "metadata": {
        "id": "2vcxv0L47vrw"
      },
      "execution_count": null,
      "outputs": []
    },
    {
      "cell_type": "markdown",
      "source": [
        "4) What is logging in Python?\n",
        "- Logging in Python refers to\n",
        "Logging records information about program execution (e.g., errors, warnings, debug info) for monitoring and debugging.\n",
        "Python’s logging module allows logs to be stored in files or shown on the console with different severity levels.\n"
      ],
      "metadata": {
        "id": "uttCdtax9RgV"
      }
    },
    {
      "cell_type": "markdown",
      "source": [
        "5) What is the significance of the _ _ del_ _ method in Python ?\n",
        "-  _ _ del_ _ method is the destructor method in Python. Called automatically when an object is about to be destroyed (when no references remain). for cleanup tasks like closing files or network connections.\n",
        "\n",
        "Not always called immediately because garbage collection timing can vary.\n",
        "\n"
      ],
      "metadata": {
        "id": "YanZmwm3928Z"
      }
    },
    {
      "cell_type": "markdown",
      "source": [
        "6) Difference between import and from ... import?\n",
        "\n",
        "- import module: imports the whole module, accessed with module.name.\n",
        "\n",
        "- from module import name: imports only specific items, used directly without prefix.\n",
        "\n",
        "\n"
      ],
      "metadata": {
        "id": "oLdfs8hw--tT"
      }
    },
    {
      "cell_type": "markdown",
      "source": [
        "7) How can you handle multiple exceptions in Python?"
      ],
      "metadata": {
        "id": "zqVhFmx3_wiy"
      }
    },
    {
      "cell_type": "code",
      "source": [
        "'''Handling multiple exceptions\n",
        "You can either use separate except blocks for each exception type or group them in a tuple:'''\n",
        "\n",
        "try:\n",
        "    x = int(\"abc\")\n",
        "except (ValueError, TypeError) as e:\n",
        "    print(\"Error:\", e)\n",
        "\n",
        "\n"
      ],
      "metadata": {
        "id": "fHScnunkAEvZ",
        "colab": {
          "base_uri": "https://localhost:8080/"
        },
        "outputId": "19fcabd8-6ff9-4b33-dc2d-dcd0c7033a04"
      },
      "execution_count": null,
      "outputs": [
        {
          "output_type": "stream",
          "name": "stdout",
          "text": [
            "Error: invalid literal for int() with base 10: 'abc'\n"
          ]
        }
      ]
    },
    {
      "cell_type": "markdown",
      "source": [
        "8) What is the purpose of the with statement when handling files in Python?\n",
        "-  Purpose of with statement for files\n",
        "The with statement ensures that a file is properly closed automatically after its block of code is executed, even if an error occurs.\n"
      ],
      "metadata": {
        "id": "2OApPWKaBIi-"
      }
    },
    {
      "cell_type": "code",
      "source": [
        "#example\n",
        "with open(\"/tmp/file.txt\", \"w\") as f: # Create the file if it doesn't exist\n",
        "    f.write(\"This is some data.\\n\") # Write some data to the file\n",
        "\n",
        "with open(\"/tmp/file.txt\", \"r\") as f:\n",
        "    data = f.read()\n",
        "\n",
        "print(data)"
      ],
      "metadata": {
        "id": "p4lup1nrBhlz",
        "colab": {
          "base_uri": "https://localhost:8080/"
        },
        "outputId": "9a6b8a87-08a5-4f16-a606-649cad9c654b"
      },
      "execution_count": null,
      "outputs": [
        {
          "output_type": "stream",
          "name": "stdout",
          "text": [
            "This is some data.\n",
            "\n"
          ]
        }
      ]
    },
    {
      "cell_type": "markdown",
      "source": [
        "9) What is the difference between multithreading and multiprocessing?\n",
        "- Difference between multithreading and multiprocessing\n",
        "\n",
        "-  Multiple threads run in the same process memory space. Best for I/O-bound tasks. Limited by GIL (Global Interpreter Lock) in CPython.\n",
        "\n",
        "- Multiprocessing: Each process has its own Python interpreter and memory space. Best for CPU-bound tasks and avoids GIL limitation.\n"
      ],
      "metadata": {
        "id": "URijEAYvB7QN"
      }
    },
    {
      "cell_type": "markdown",
      "source": [
        "10) What are the advantages of using logging in a program?\n",
        "- Advantages of logging\n",
        "\n",
        "a. Provides a history of program execution.\n",
        "\n",
        "b. Helps diagnose problems.\n",
        "\n",
        "c. Flexible (can log to files, console, or network).\n",
        "\n",
        "d. Supports log levels (DEBUG, INFO, WARNING, ERROR, CRITICAL).\n",
        "\n"
      ],
      "metadata": {
        "id": "RYnUFFCrCYTu"
      }
    },
    {
      "cell_type": "markdown",
      "source": [
        "11.What is memory management in Python?\n",
        "\n",
        "- Memory management in Python\n",
        "\n",
        "a. Managed by Python’s private heap space.\n",
        "\n",
        "b. Uses reference counting to track object usage.\n",
        "\n",
        "c. Cyclic garbage collector removes objects involved in circular references.\n",
        "\n",
        "d. Memory allocation handled internally, not directly by the programmer.\n",
        "\n",
        "\n"
      ],
      "metadata": {
        "id": "nlDxH2eqC5Pp"
      }
    },
    {
      "cell_type": "markdown",
      "source": [
        "12.What are the basic steps involved in exception handling in Python?\n",
        "- Basic steps in exception handling\n",
        "\n",
        "1. Write risky code inside a try block.\n",
        "\n",
        "\n",
        "2. Use except to catch specific errors.\n",
        "\n",
        "\n",
        "3. Use else for code that runs if no error occurs.\n",
        "\n",
        "\n",
        "4. Use finally for cleanup.\n",
        "\n"
      ],
      "metadata": {
        "id": "NF2FWI12Dnba"
      }
    },
    {
      "cell_type": "markdown",
      "source": [
        "13. Why memory management is important in Python?\n",
        "- memory management is important because :-\n",
        "\n",
        "a. Prevents memory leaks.\n",
        "\n",
        "b. Ensures efficient resource usage.\n",
        "\n",
        "c. Improves performance.\n",
        "\n",
        "d.Avoids system crashes from excessive memory use.\n",
        "\n",
        "\n",
        "\n"
      ],
      "metadata": {
        "id": "gByXIH3xD60R"
      }
    },
    {
      "cell_type": "markdown",
      "source": [
        "14. What is the Role of try and except in exception handling?\n",
        "\n",
        "- try: Executes code that might raise an error.\n",
        "\n",
        "- except: Catches and handles that error without stopping the program.\n",
        "\n",
        "\n",
        "\n"
      ],
      "metadata": {
        "id": "zKrClYK4EoOd"
      }
    },
    {
      "cell_type": "markdown",
      "source": [
        "15) How does Python's garbage collection system work?\n",
        "- Python’s garbage collection system\n",
        "\n",
        "1. Reference counting: Deletes an object when reference count drops to zero.\n",
        "\n",
        "2. Cyclic garbage collector: Detects and cleans up circular references.\n",
        "\n",
        "3. Triggered automatically but can be controlled via gc module.\n",
        "\n",
        "\n"
      ],
      "metadata": {
        "id": "lN6Oq0q9FJYJ"
      }
    },
    {
      "cell_type": "markdown",
      "source": [
        "16) What is the purpose of the else block in exception handling?\n",
        "- Purpose of else block in exception handling\n",
        "Executes only if the try block does not raise an exception. Useful for separating error-handling from normal code.\n",
        "\n"
      ],
      "metadata": {
        "id": "f3e5YJlnFlku"
      }
    },
    {
      "cell_type": "markdown",
      "source": [
        "17) What are the common logging levels in Python?\n",
        "- Common logging levels\n",
        "\n",
        "DEBUG → Detailed diagnostic info.\n",
        "\n",
        "INFO → Confirmation that things work as   expected.\n",
        "\n",
        "WARNING → Something unexpected happened but program still runs.\n",
        "\n",
        "ERROR → Serious issue, function failed.\n",
        "\n",
        "CRITICAL → Very serious error, program may stop.\n"
      ],
      "metadata": {
        "id": "v9ljfsIcJFa6"
      }
    },
    {
      "cell_type": "markdown",
      "source": [
        "18) What is the difference between os.fork() and multiprocessing in Python\n",
        "- Difference between os.fork() and multiprocessing\n",
        "\n",
        "os.fork(): Unix/Linux only, duplicates the process from current state.\n",
        "\n",
        "multiprocessing module: Works on all platforms, starts fresh processes and passes data using pipes or queues.\n",
        "\n"
      ],
      "metadata": {
        "id": "6Yb2aOgMJmxK"
      }
    },
    {
      "cell_type": "markdown",
      "source": [
        "19) What is the importance of closing a file in Python?\n",
        "- Importance of closing a file are:-\n",
        "\n",
        "a. Frees file handle resources.\n",
        "\n",
        "b. Ensures all data in buffer is written (flushed).\n",
        "\n",
        "c. Avoids file corruption.\n"
      ],
      "metadata": {
        "id": "510JwDylKvQp"
      }
    },
    {
      "cell_type": "markdown",
      "source": [
        "20) What is the difference between file.read() and file.readline() in Python?\n",
        "- Difference between file.read() and file.readline() are:-\n",
        "\n",
        "**read()**: Reads entire file or specified number of characters.\n",
        "\n",
        "**readline()**: Reads only one line from the file at a time.\n",
        "\n"
      ],
      "metadata": {
        "id": "TrapCDgYK_5A"
      }
    },
    {
      "cell_type": "markdown",
      "source": [
        "21) What is the logging module in Python used for?\n",
        "- Logging module usage\n",
        "Provides an API to configure and generate log messages for monitoring and debugging.\n"
      ],
      "metadata": {
        "id": "tj2ZCnK_LazI"
      }
    },
    {
      "cell_type": "code",
      "source": [
        "#example\n",
        "import logging\n",
        "logging.basicConfig(level=logging.INFO)\n",
        "logging.info(\"This is an info message.\")\n"
      ],
      "metadata": {
        "id": "Szp6H79IL-h5"
      },
      "execution_count": null,
      "outputs": []
    },
    {
      "cell_type": "markdown",
      "source": [
        "22) What is the os module in Python used for in file handling?\n",
        "- os module for file handling\n",
        "Provides functions for interacting with the file system:\n",
        "\n",
        "os.rename() → rename files\n",
        "\n",
        "os.remove() → delete files\n",
        "\n",
        "os.mkdir() / os.rmdir() → create/remove directories\n",
        "\n",
        "os.path → work with file paths\n"
      ],
      "metadata": {
        "id": "5H15aVtvMmEJ"
      }
    },
    {
      "cell_type": "markdown",
      "source": [
        "23) What are the challenges associated with memory management in Python?\n",
        "- Challenges with memory management in Python are :-\n",
        "\n",
        "a. Circular references delaying garbage collection.\n",
        "\n",
        "b. Memory fragmentation for long-running processes.\n",
        "\n",
        "c. Large object retention due to hidden references.\n",
        "\n",
        "d. Overhead of garbage collector for performance-critical applications.\n",
        "\n",
        "\n"
      ],
      "metadata": {
        "id": "ficnjntZNLNQ"
      }
    },
    {
      "cell_type": "markdown",
      "source": [
        "24. How do you raise an exception manually in Python?\n",
        "- In Python, you can raise (throw) an exception manually using the raise keyword followed by an exception class or instance.\n",
        "Example:"
      ],
      "metadata": {
        "id": "XmVS30ZrPR0S"
      }
    },
    {
      "cell_type": "code",
      "source": [
        "# Raising a built-in exception\n",
        "try:\n",
        "    raise ValueError(\"Invalid value provided\")\n",
        "except ValueError as e:\n",
        "    print(\"Caught built-in exception:\", e)\n",
        "\n",
        "# Raising a custom exception\n",
        "class MyError(Exception):\n",
        "    pass\n",
        "\n",
        "try:\n",
        "    raise MyError(\"This is a custom error\")\n",
        "except MyError as e:\n",
        "    print(\"Caught custom exception:\", e)"
      ],
      "metadata": {
        "id": "S3bza25ZPHIC",
        "colab": {
          "base_uri": "https://localhost:8080/"
        },
        "outputId": "e999936d-86a9-44e7-c6aa-54c105f3b8b2"
      },
      "execution_count": null,
      "outputs": [
        {
          "output_type": "stream",
          "name": "stdout",
          "text": [
            "Caught built-in exception: Invalid value provided\n",
            "Caught custom exception: This is a custom error\n"
          ]
        }
      ]
    },
    {
      "cell_type": "markdown",
      "source": [
        "25. Why is it important to use multithreading in certain applications?\n",
        "- Multithreading allows multiple threads (lightweight processes) to run concurrently within the same program.\n",
        "Importance:\n",
        "\n",
        "1. Improves responsiveness: GUI apps remain interactive while performing background tasks.\n",
        "\n",
        "2. Better resource utilization: Threads can handle multiple I/O operations at the same time (e.g., network requests, file operations).\n",
        "\n",
        "3. Parallelism for I/O-bound tasks: While one thread waits for I/O, another can execute.\n",
        "\n",
        "4. Reduced latency in real-time systems (e.g., chat servers, gaming apps).\n",
        "\n",
        "⚠ In CPython, due to the Global Interpreter Lock (GIL), multithreading is best suited for I/O-bound tasks rather than CPU-bound tasks.\n",
        "\n",
        "\n",
        "\n",
        "\n"
      ],
      "metadata": {
        "id": "e1-YH0jxPsTy"
      }
    },
    {
      "cell_type": "markdown",
      "source": [
        "PRACTICAL QUESTIONS"
      ],
      "metadata": {
        "id": "m38CJa9RuzJH"
      }
    },
    {
      "cell_type": "markdown",
      "source": [
        "1) How can you open a file for writing in Python and write a string to it?"
      ],
      "metadata": {
        "id": "3eK2brahuzrT"
      }
    },
    {
      "cell_type": "code",
      "source": [
        "# 1. Open a file for writing and write a string\n",
        "with open(\"file1.txt\", \"w\") as f:\n",
        "    f.write(\"Hello, this is a test string!\")\n"
      ],
      "metadata": {
        "id": "Fy-lEkDMvA0B"
      },
      "execution_count": null,
      "outputs": []
    },
    {
      "cell_type": "markdown",
      "source": [
        "2) Write a Python program to read the contents of a file and print each line.\n"
      ],
      "metadata": {
        "id": "SyWmwHdcvahd"
      }
    },
    {
      "cell_type": "code",
      "source": [
        "# 2. Read contents of a file and print each line\n",
        "with open(\"file1.txt\", \"r\") as f:\n",
        "    for line in f:\n",
        "        print(line.strip())\n",
        "\n"
      ],
      "metadata": {
        "colab": {
          "base_uri": "https://localhost:8080/"
        },
        "id": "AifyE2zSvYfa",
        "outputId": "c919e02b-21bb-4d17-a18d-fd795ed804b2"
      },
      "execution_count": null,
      "outputs": [
        {
          "output_type": "stream",
          "name": "stdout",
          "text": [
            "Hello, this is a test string!\n"
          ]
        }
      ]
    },
    {
      "cell_type": "markdown",
      "source": [
        "3) How would you handle a case where the file doesn't exist while trying to open it for reading?"
      ],
      "metadata": {
        "id": "VsNy0QFsvz6g"
      }
    },
    {
      "cell_type": "code",
      "source": [
        "# 3. Handle case where file doesn’t exist\n",
        "try:\n",
        "    with open(\"nofile.txt\", \"r\") as f:\n",
        "        print(f.read())\n",
        "except FileNotFoundError:\n",
        "    print(\"File does not exist!\")\n",
        "\n"
      ],
      "metadata": {
        "colab": {
          "base_uri": "https://localhost:8080/"
        },
        "id": "pFre0iG_v0bV",
        "outputId": "5bcc08c8-31f1-40b1-eb4a-f5a574c1c1e0"
      },
      "execution_count": null,
      "outputs": [
        {
          "output_type": "stream",
          "name": "stdout",
          "text": [
            "File does not exist!\n"
          ]
        }
      ]
    },
    {
      "cell_type": "markdown",
      "source": [
        "4) Write a Python script that reads from one file and writes its content to another file"
      ],
      "metadata": {
        "id": "fkJOxr0zwj03"
      }
    },
    {
      "cell_type": "code",
      "source": [
        "# 4. Copy from one file to another\n",
        "with open(\"file1.txt\", \"r\") as f1, open(\"file2.txt\", \"w\") as f2:\n",
        "    f2.write(f1.read())"
      ],
      "metadata": {
        "id": "AgH-xUNwxBgf"
      },
      "execution_count": null,
      "outputs": []
    },
    {
      "cell_type": "markdown",
      "source": [
        "5) How would you catch and handle division by zero error in Python?"
      ],
      "metadata": {
        "id": "2KRE05xnxCCD"
      }
    },
    {
      "cell_type": "code",
      "source": [
        "# 5. Handle division by zero\n",
        "try:\n",
        "    x = 10 / 0\n",
        "except ZeroDivisionError:\n",
        "    print(\"Cannot divide by zero!\")\n"
      ],
      "metadata": {
        "colab": {
          "base_uri": "https://localhost:8080/"
        },
        "id": "1pokielIyKzi",
        "outputId": "4c07c2b5-29bf-43bc-b701-4d34c922a1bd"
      },
      "execution_count": null,
      "outputs": [
        {
          "output_type": "stream",
          "name": "stdout",
          "text": [
            "Cannot divide by zero!\n"
          ]
        }
      ]
    },
    {
      "cell_type": "markdown",
      "source": [
        "6) Write a Python program that logs an error message to a log file when a division by zero exception occurs"
      ],
      "metadata": {
        "id": "84IZPoztyW1M"
      }
    },
    {
      "cell_type": "code",
      "source": [
        "# 6. Log error message when ZeroDivisionError occurs\n",
        "import logging\n",
        "logging.basicConfig(filename=\"errors.log\", level=logging.ERROR)\n",
        "try:\n",
        "    x = 10 / 0\n",
        "except ZeroDivisionError:\n",
        "    logging.error(\"Division by zero occurred!\", exc_info=True)\n",
        "\n"
      ],
      "metadata": {
        "colab": {
          "base_uri": "https://localhost:8080/"
        },
        "id": "LaiaLK_VylsR",
        "outputId": "92988cce-0447-4e9c-b795-1f76ede57887"
      },
      "execution_count": null,
      "outputs": [
        {
          "output_type": "stream",
          "name": "stderr",
          "text": [
            "ERROR:root:Division by zero occurred!\n",
            "Traceback (most recent call last):\n",
            "  File \"/tmp/ipython-input-664589064.py\", line 5, in <cell line: 0>\n",
            "    x = 10 / 0\n",
            "        ~~~^~~\n",
            "ZeroDivisionError: division by zero\n"
          ]
        }
      ]
    },
    {
      "cell_type": "markdown",
      "source": [
        "7) How do you log information at different levels (INFO, ERROR, WARNING) in Python using the logging module?"
      ],
      "metadata": {
        "id": "oI-giWk4y2Wg"
      }
    },
    {
      "cell_type": "code",
      "source": [
        "import logging\n",
        "logging.basicConfig(level=logging.DEBUG)\n",
        "logging.info(\"This is info\")\n",
        "logging.error(\"This is error\")\n",
        "logging.warning(\"This is warning\")"
      ],
      "metadata": {
        "colab": {
          "base_uri": "https://localhost:8080/"
        },
        "id": "c6XfbFIRy6cs",
        "outputId": "7446461a-c9ed-4041-beb3-1d15d9a65434"
      },
      "execution_count": null,
      "outputs": [
        {
          "output_type": "stream",
          "name": "stderr",
          "text": [
            "ERROR:root:This is error\n",
            "WARNING:root:This is warning\n"
          ]
        }
      ]
    },
    {
      "cell_type": "markdown",
      "source": [
        "8) Write a program to handle a file opening error using exception handlingF\n"
      ],
      "metadata": {
        "id": "mHzTtAv7zlP_"
      }
    },
    {
      "cell_type": "code",
      "source": [
        "# 8. Handle file opening error\n",
        "try:\n",
        "    with open(\"unknown.txt\", \"r\") as f:\n",
        "        print(f.read())\n",
        "except OSError as e:\n",
        "    print(f\"Error: {e}\")\n",
        "\n"
      ],
      "metadata": {
        "colab": {
          "base_uri": "https://localhost:8080/"
        },
        "id": "JOHQ5pWRzelQ",
        "outputId": "17de6af1-1d1e-4f68-a932-d5d78ea6e7af"
      },
      "execution_count": null,
      "outputs": [
        {
          "output_type": "stream",
          "name": "stdout",
          "text": [
            "Error: [Errno 2] No such file or directory: 'unknown.txt'\n"
          ]
        }
      ]
    },
    {
      "cell_type": "markdown",
      "source": [
        "9)  How can you read a file line by line and store its content in a list in Python?"
      ],
      "metadata": {
        "id": "9MqeZMSd0DSD"
      }
    },
    {
      "cell_type": "code",
      "source": [
        "\n",
        "\n",
        "# 9. Read file line by line into a list\n",
        "lines = []\n",
        "with open(\"file1.txt\", \"r\") as f:\n",
        "    for line in f:\n",
        "        lines.append(line.strip())\n",
        "print(lines)\n"
      ],
      "metadata": {
        "colab": {
          "base_uri": "https://localhost:8080/"
        },
        "id": "x3W7XGoW0yFl",
        "outputId": "9de8d296-bc6a-436a-a905-26da7693a4ff"
      },
      "execution_count": null,
      "outputs": [
        {
          "output_type": "stream",
          "name": "stdout",
          "text": [
            "['Hello, this is a test string!']\n"
          ]
        }
      ]
    },
    {
      "cell_type": "markdown",
      "source": [
        " 10) How can you append data to an existing file in Python?"
      ],
      "metadata": {
        "id": "wEiFXu8f07ho"
      }
    },
    {
      "cell_type": "code",
      "source": [
        "# 10. Append data to an existing file\n",
        "with open(\"file1.txt\", \"a\") as f:\n",
        "    f.write(\"\\nNew appended line\")\n",
        "\n"
      ],
      "metadata": {
        "id": "Up82V6xG0wpa"
      },
      "execution_count": null,
      "outputs": []
    },
    {
      "cell_type": "markdown",
      "source": [
        "11) Write a Python program that uses a try-except block to handle an error when attempting to access a dictionary key that doesn't exist"
      ],
      "metadata": {
        "id": "1qH94Dn41tdZ"
      }
    },
    {
      "cell_type": "code",
      "source": [
        "# 11. Try-except for missing dictionary key\n",
        "data = {\"a\": 1}\n",
        "try:\n",
        "    print(data[\"b\"])\n",
        "except KeyError:\n",
        "    print(\"Key does not exist!\")\n",
        "\n"
      ],
      "metadata": {
        "colab": {
          "base_uri": "https://localhost:8080/"
        },
        "id": "d-p531A810ew",
        "outputId": "6c65a5f5-6882-4e79-bbd4-fba1fb02ade0"
      },
      "execution_count": null,
      "outputs": [
        {
          "output_type": "stream",
          "name": "stdout",
          "text": [
            "Key does not exist!\n"
          ]
        }
      ]
    },
    {
      "cell_type": "markdown",
      "source": [
        "12)  Write a program that demonstrates using multiple except blocks to handle different types of exceptionsF"
      ],
      "metadata": {
        "id": "zDm0nstS0mc6"
      }
    },
    {
      "cell_type": "code",
      "source": [
        "# 12. Multiple except blocks\n",
        "try:\n",
        "    num = int(\"hello\")\n",
        "    x = 10 / 0\n",
        "except ValueError:\n",
        "    print(\"Value Error occurred!\")\n",
        "except ZeroDivisionError:\n",
        "    print(\"Zero Division Error occurred!\")\n",
        "\n"
      ],
      "metadata": {
        "colab": {
          "base_uri": "https://localhost:8080/"
        },
        "id": "LT4kdjLj7jrj",
        "outputId": "e9cee9a1-7e62-4bd3-f8eb-f371ff52e200"
      },
      "execution_count": null,
      "outputs": [
        {
          "output_type": "stream",
          "name": "stdout",
          "text": [
            "Value Error occurred!\n"
          ]
        }
      ]
    },
    {
      "cell_type": "markdown",
      "source": [
        "13) How would you check if a file exists before attempting to read it in Python?"
      ],
      "metadata": {
        "id": "Fr4Gwyn84jaU"
      }
    },
    {
      "cell_type": "code",
      "source": [
        "# 13. Check if file exists\n",
        "import os\n",
        "if os.path.exists(\"file1.txt\"):\n",
        "    print(\"File exists\")\n",
        "else:\n",
        "    print(\"File not found\")\n",
        "\n"
      ],
      "metadata": {
        "colab": {
          "base_uri": "https://localhost:8080/"
        },
        "id": "FzRorJkU7isi",
        "outputId": "4b99bed7-aaa5-4910-e905-608c5bcd4ac5"
      },
      "execution_count": null,
      "outputs": [
        {
          "output_type": "stream",
          "name": "stdout",
          "text": [
            "File exists\n"
          ]
        }
      ]
    },
    {
      "cell_type": "markdown",
      "source": [
        "14) Write a program that uses the logging module to log both informational and error messages."
      ],
      "metadata": {
        "id": "YBMR9n_240gI"
      }
    },
    {
      "cell_type": "code",
      "source": [
        "# 14. Logging info + error messages\n",
        "logging.basicConfig(filename=\"app.log\", level=logging.DEBUG)\n",
        "logging.info(\"Program started\")\n",
        "try:\n",
        "    10/0\n",
        "except Exception as e:\n",
        "    logging.error(f\"Error: {e}\")\n",
        "\n"
      ],
      "metadata": {
        "colab": {
          "base_uri": "https://localhost:8080/"
        },
        "id": "b6X01Mcf8NLC",
        "outputId": "f3e2a447-d43c-4690-c3d9-5e8384239c42"
      },
      "execution_count": null,
      "outputs": [
        {
          "output_type": "stream",
          "name": "stderr",
          "text": [
            "ERROR:root:Error: division by zero\n"
          ]
        }
      ]
    },
    {
      "cell_type": "markdown",
      "source": [
        "15) Write a Python program that prints the content of a file and handles the case when the file is empty?"
      ],
      "metadata": {
        "id": "Q2FHO_jN447G"
      }
    },
    {
      "cell_type": "code",
      "source": [
        "# 15. Print content of a file and handle empty\n",
        "with open(\"file1.txt\", \"r\") as f:\n",
        "    content = f.read()\n",
        "    if content.strip() == \"\":\n",
        "        print(\"File is empty\")\n",
        "    else:\n",
        "        print(content)\n",
        "\n"
      ],
      "metadata": {
        "colab": {
          "base_uri": "https://localhost:8080/"
        },
        "id": "Ev5mE0BY8vw9",
        "outputId": "ad006e87-cf52-4e98-ce9b-2d321ce39659"
      },
      "execution_count": null,
      "outputs": [
        {
          "output_type": "stream",
          "name": "stdout",
          "text": [
            "Hello, this is a test string!\n",
            "New appended line\n"
          ]
        }
      ]
    },
    {
      "cell_type": "markdown",
      "source": [
        "16) Demonstrate how to use memory profiling to check the memory usage of a small program"
      ],
      "metadata": {
        "id": "Kpx6mW8C5E_6"
      }
    },
    {
      "cell_type": "code",
      "source": [
        "# 16. Memory profiling demo\n",
        "from memory_profiler import profile\n",
        "@profile\n",
        "def my_func():\n",
        "    a = [i for i in range(10000)]\n",
        "    return sum(a)\n",
        "my_func()\n"
      ],
      "metadata": {
        "colab": {
          "base_uri": "https://localhost:8080/"
        },
        "id": "WDSoGmud84hh",
        "outputId": "54712f55-1044-4c98-ad04-bd6cee804cd7"
      },
      "execution_count": null,
      "outputs": [
        {
          "output_type": "stream",
          "name": "stdout",
          "text": [
            "ERROR: Could not find file /tmp/ipython-input-1610777633.py\n"
          ]
        },
        {
          "output_type": "execute_result",
          "data": {
            "text/plain": [
              "49995000"
            ]
          },
          "metadata": {},
          "execution_count": 86
        }
      ]
    },
    {
      "cell_type": "markdown",
      "source": [
        "17) Write a Python program to create and write a list of numbers to a file, one number per line?"
      ],
      "metadata": {
        "id": "P6viOy-S5kK2"
      }
    },
    {
      "cell_type": "code",
      "source": [
        "# 17. Write list of numbers to file\n",
        "numbers = [1, 2, 3, 4, 5]\n",
        "with open(\"nums.txt\", \"w\") as f:\n",
        "    for n in numbers:\n",
        "        f.write(str(n) + \"\\n\")\n",
        "\n",
        "# Read and print the content of the file to verify\n",
        "with open(\"nums.txt\", \"r\") as f:\n",
        "    content = f.read()\n",
        "    print(content)"
      ],
      "metadata": {
        "colab": {
          "base_uri": "https://localhost:8080/"
        },
        "id": "wOlMr5gB9ddr",
        "outputId": "3d678024-df07-4ea3-bc81-26388d860dd8"
      },
      "execution_count": null,
      "outputs": [
        {
          "output_type": "stream",
          "name": "stdout",
          "text": [
            "1\n",
            "2\n",
            "3\n",
            "4\n",
            "5\n",
            "\n"
          ]
        }
      ]
    },
    {
      "cell_type": "markdown",
      "source": [
        "18) How would you implement a basic logging setup that logs to a file with rotation after 1MB?"
      ],
      "metadata": {
        "id": "r2sIGAPc56IC"
      }
    },
    {
      "cell_type": "code",
      "source": [
        "# 18. Basic logging with rotation\n",
        "from logging.handlers import RotatingFileHandler\n",
        "handler = RotatingFileHandler(\"rotate.log\", maxBytes=1024*1024, backupCount=3)\n",
        "logging.basicConfig(handlers=[handler], level=logging.INFO)\n",
        "logging.info(\"This is a rotating log\")\n",
        "\n",
        "\n"
      ],
      "metadata": {
        "id": "PF2-HiNE-N-B"
      },
      "execution_count": null,
      "outputs": []
    },
    {
      "cell_type": "markdown",
      "source": [
        "19) Write a program that handles both IndexError and KeyError using a try-except block ?"
      ],
      "metadata": {
        "id": "wS8BS08N6Klh"
      }
    },
    {
      "cell_type": "code",
      "source": [
        "# 19. Handle IndexError + KeyError\n",
        "lst = [1,2,3]\n",
        "d = {\"a\":1}\n",
        "try:\n",
        "    print(lst[5])\n",
        "    print(d[\"b\"])\n",
        "except IndexError:\n",
        "    print(\"Index out of range!\")\n",
        "except KeyError:\n",
        "    print(\"Key not found!\")\n"
      ],
      "metadata": {
        "colab": {
          "base_uri": "https://localhost:8080/"
        },
        "id": "nGK52XXo-mrt",
        "outputId": "11503a9b-d684-4efd-eb76-9b2ded53816a"
      },
      "execution_count": null,
      "outputs": [
        {
          "output_type": "stream",
          "name": "stdout",
          "text": [
            "Index out of range!\n"
          ]
        }
      ]
    },
    {
      "cell_type": "markdown",
      "source": [
        "20) How would you open a file and read its contents using a context manager in Python?"
      ],
      "metadata": {
        "id": "Dh_mAbcx6jOj"
      }
    },
    {
      "cell_type": "code",
      "source": [
        "# 20. Open file with context manager\n",
        "with open(\"file1.txt\", \"r\") as f:\n",
        "    print(f.read())\n",
        "\n"
      ],
      "metadata": {
        "colab": {
          "base_uri": "https://localhost:8080/"
        },
        "id": "5HVqIZtt-0Ro",
        "outputId": "e2c17bf7-d6c8-4309-c593-d170ed9887bb"
      },
      "execution_count": null,
      "outputs": [
        {
          "output_type": "stream",
          "name": "stdout",
          "text": [
            "Hello, this is a test string!\n",
            "New appended line\n"
          ]
        }
      ]
    },
    {
      "cell_type": "markdown",
      "source": [
        "21) Write a Python program that reads a file and prints the number of occurrences of a specific word."
      ],
      "metadata": {
        "id": "EkmVtVQf60am"
      }
    },
    {
      "cell_type": "code",
      "source": [
        "# 21. Count occurrences of a word\n",
        "word = \"test\"\n",
        "count = 0\n",
        "with open(\"file1.txt\", \"r\") as f:\n",
        "    for line in f:\n",
        "        count += line.split().count(word)\n",
        "print(f\"Word '{word}' found {count} times\")\n",
        "\n"
      ],
      "metadata": {
        "colab": {
          "base_uri": "https://localhost:8080/"
        },
        "id": "zz4IlWRx_EUh",
        "outputId": "8828ba7a-6668-41b7-ab73-79726884c878"
      },
      "execution_count": null,
      "outputs": [
        {
          "output_type": "stream",
          "name": "stdout",
          "text": [
            "Word 'test' found 1 times\n"
          ]
        }
      ]
    },
    {
      "cell_type": "markdown",
      "source": [
        "22) How can you check if a file is empty before attempting to read its contents?"
      ],
      "metadata": {
        "id": "8Mc1UTYP64Ad"
      }
    },
    {
      "cell_type": "code",
      "source": [
        "import os\n",
        "\n",
        "filename = \"example.txt\"\n",
        "\n",
        "if os.path.exists(filename):\n",
        "    with open(filename, \"r\") as f:\n",
        "        content = f.read()\n",
        "        if not content:\n",
        "            print(\"File is empty\")\n",
        "        else:\n",
        "            print(\"File is not empty\")\n",
        "else:\n",
        "    print(f\"File '{filename}' not found.\")"
      ],
      "metadata": {
        "colab": {
          "base_uri": "https://localhost:8080/"
        },
        "id": "RRa2ij01_I8k",
        "outputId": "a7536484-c7d2-4d7d-9bd2-fb89102ebeb8"
      },
      "execution_count": null,
      "outputs": [
        {
          "output_type": "stream",
          "name": "stdout",
          "text": [
            "File 'example.txt' not found.\n"
          ]
        }
      ]
    },
    {
      "cell_type": "markdown",
      "source": [
        "23) Write a Python program that writes to a log file when an error occurs during file handling."
      ],
      "metadata": {
        "id": "iHxGiGom7Wmv"
      }
    },
    {
      "cell_type": "code",
      "source": [
        "import os\n",
        "import datetime\n",
        "\n",
        "def read_file(filename):\n",
        "    try:\n",
        "        # Try to open and read the file\n",
        "        with open(filename, \"r\") as f:\n",
        "            data = f.read()\n",
        "            print(\"File contents:\\n\", data)\n",
        "    except Exception as e:\n",
        "        # If any error occurs, log it\n",
        "        log_error(f\"Error while handling file '{filename}': {str(e)}\")\n",
        "\n",
        "def log_error(message):\n",
        "    log_filename = \"error_log.txt\"\n",
        "    with open(log_filename, \"a\") as log_file:  # Append mode so old logs are preserved\n",
        "        timestamp = datetime.datetime.now().strftime(\"%Y-%m-%d %H:%M:%S\")\n",
        "        log_file.write(f\"[{timestamp}] {message}\\n\")\n",
        "    print(\"An error occurred! Logged to error_log.txt\")\n",
        "\n",
        "# Example usage\n",
        "read_file(\"non_existing_file.txt\")  # This will cause an error and log it\n"
      ],
      "metadata": {
        "colab": {
          "base_uri": "https://localhost:8080/"
        },
        "id": "OfSUIcD27WUe",
        "outputId": "c02e610c-0f8a-48f4-958c-0c27ea9fab20"
      },
      "execution_count": null,
      "outputs": [
        {
          "output_type": "stream",
          "name": "stdout",
          "text": [
            "An error occurred! Logged to error_log.txt\n"
          ]
        }
      ]
    }
  ]
}